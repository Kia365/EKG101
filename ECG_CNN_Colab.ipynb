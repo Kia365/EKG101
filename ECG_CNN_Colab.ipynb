{
  "cells": [
    {
      "cell_type": "markdown",
      "metadata": {},
      "source": [
        "# ECG Signal Classification using CNN\n",
        "\n",
        "This notebook trains a Convolutional Neural Network (CNN) for ECG signal classification using the PTB Diagnostic ECG Database. The model is optimized for Google Colab with GPU support.\n",
        "\n",
        "## Features:\n",
        "- CNN architecture optimized for 1D ECG signals\n",
        "- GPU acceleration with mixed precision training\n",
        "- Automatic data preprocessing and augmentation\n",
        "- Real-time training monitoring\n",
        "- Model evaluation and visualization\n"
      ]
    },
    {
      "cell_type": "markdown",
      "metadata": {},
      "source": [
        "## 1. Setup and Installation\n"
      ]
    },
    {
      "cell_type": "code",
      "execution_count": null,
      "metadata": {},
      "outputs": [],
      "source": [
        "# Install required packages\n",
        "%pip install wfdb scikit-learn tqdm\n",
        "%pip install --upgrade tensorflow\n"
      ]
    },
    {
      "cell_type": "code",
      "execution_count": null,
      "metadata": {},
      "outputs": [],
      "source": [
        "# Import libraries\n",
        "import numpy as np\n",
        "import pandas as pd\n",
        "import matplotlib.pyplot as plt\n",
        "import wfdb\n",
        "import os\n",
        "from tqdm import tqdm\n",
        "import tensorflow as tf\n",
        "from tensorflow import keras\n",
        "from tensorflow.keras import layers\n",
        "from sklearn.model_selection import train_test_split\n",
        "from sklearn.preprocessing import LabelEncoder\n",
        "from sklearn.metrics import classification_report, confusion_matrix, f1_score, precision_score, recall_score\n",
        "import warnings\n",
        "warnings.filterwarnings('ignore')\n",
        "\n",
        "print(f\"TensorFlow version: {tf.__version__}\")\n",
        "print(f\"GPU available: {tf.config.list_physical_devices('GPU')}\")\n"
      ]
    },
    {
      "cell_type": "markdown",
      "metadata": {},
      "source": [
        "## 2. GPU Configuration\n"
      ]
    },
    {
      "cell_type": "code",
      "execution_count": null,
      "metadata": {},
      "outputs": [],
      "source": [
        "def configure_gpu():\n",
        "    \"\"\"Configure GPU settings for optimal performance in Google Colab\"\"\"\n",
        "    print(\"Configuring GPU settings...\")\n",
        "    \n",
        "    # Check if GPU is available\n",
        "    gpus = tf.config.experimental.list_physical_devices('GPU')\n",
        "    if gpus:\n",
        "        try:\n",
        "            # Enable memory growth to avoid allocating all GPU memory at once\n",
        "            for gpu in gpus:\n",
        "                tf.config.experimental.set_memory_growth(gpu, True)\n",
        "            print(f\"Found {len(gpus)} GPU(s). Memory growth enabled.\")\n",
        "            \n",
        "            # Set mixed precision for better performance\n",
        "            tf.keras.mixed_precision.set_global_policy('mixed_float16')\n",
        "            print(\"Mixed precision enabled for better performance.\")\n",
        "            \n",
        "        except RuntimeError as e:\n",
        "            print(f\"GPU configuration error: {e}\")\n",
        "    else:\n",
        "        print(\"No GPU found. Using CPU.\")\n",
        "    \n",
        "    # Print TensorFlow version and device info\n",
        "    print(f\"TensorFlow version: {tf.__version__}\")\n",
        "    print(f\"Available devices: {tf.config.list_physical_devices()}\")\n",
        "\n",
        "# Configure GPU\n",
        "configure_gpu()\n"
      ]
    },
    {
      "cell_type": "markdown",
      "metadata": {},
      "source": [
        "## 3. Mount Google Drive (Optional)\n",
        "\n",
        "If you have the PTB dataset in your Google Drive, mount it here:\n"
      ]
    },
    {
      "cell_type": "code",
      "execution_count": null,
      "metadata": {},
      "outputs": [],
      "source": [
        "# Mount Google Drive to access your PTB dataset\n",
        "from google.colab import drive\n",
        "drive.mount('/content/drive')\n",
        "\n",
        "print(\"Google Drive mounted! The script will automatically look for the PTB dataset in:\")\n",
        "print(\"- /content/drive/MyDrive/ptb-diagnostic-ecg-database-1.0.0/\")\n",
        "print(\"- /content/drive/MyDrive/Downloads/ptb-diagnostic-ecg-database-1.0.0/\")\n",
        "print(\"- /content/drive/MyDrive/ECG_Project/ptb-diagnostic-ecg-database-1.0.0/\")\n"
      ]
    },
    {
      "cell_type": "markdown",
      "metadata": {},
      "source": [
        "## 4. Load CNN Classes and Run Training\n",
        "\n",
        "Load the CNN implementation and start training:\n"
      ]
    },
    {
      "cell_type": "code",
      "execution_count": null,
      "metadata": {},
      "outputs": [],
      "source": [
        "# Load the CNN classes and run training\n",
        "exec(open('EKG_CNN.py').read())\n",
        "\n",
        "# The script will automatically:\n",
        "# 1. Configure GPU\n",
        "# 2. Mount Google Drive (if in Colab)\n",
        "# 3. Find your PTB dataset in Google Drive\n",
        "# 4. Train the CNN model\n",
        "# 5. Save results\n"
      ]
    }
  ],
  "metadata": {
    "language_info": {
      "name": "python"
    }
  },
  "nbformat": 4,
  "nbformat_minor": 2
}
